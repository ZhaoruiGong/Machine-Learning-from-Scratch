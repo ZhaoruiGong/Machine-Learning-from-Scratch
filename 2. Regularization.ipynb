{
 "cells": [
  {
   "cell_type": "markdown",
   "id": "1c0430c3-9317-4fc7-a947-f95b8b9ac671",
   "metadata": {},
   "source": [
    "## <center> Machine Learning from Scratch at ETH Zurich\n",
    "## <center> 2. Regularization: Ridge Regression and LASSO with Cross Validation\n",
    "## <center> 正则化：用交叉验证实现岭回归与LASSO\n",
    "### <center> Zhaorui Gong &nbsp; 宫兆瑞"
   ]
  },
  {
   "cell_type": "markdown",
   "id": "92abf1f1-77e1-468c-9de5-a77f669b6759",
   "metadata": {},
   "source": [
    "#### 注意：\n",
    "1. 适用 regularization的情形：高维数据，甚至 p > n; 数据噪声很大；回归拟合而不是分类。\n",
    "2. 适用LASSO的情形：希望选择features，比如当已知很多features无关；需要interpretability，即哪些因素重要；需要稀疏的模型。\n",
    "3. 适用Ridge的情形：希望保全所有features，比如它们全都有物理/经济意义，只是shrink their coefficients；存在明显的多重共线性问题；希望光滑化的拟合结果。"
   ]
  },
  {
   "cell_type": "markdown",
   "id": "15a4bb10-36c0-4e55-96ba-1cc8d1ee43d3",
   "metadata": {},
   "source": [
    "### 2.1 Ridge Regression"
   ]
  },
  {
   "cell_type": "code",
   "execution_count": 4,
   "id": "ca850e25-0a29-47ed-a97b-0824a8381449",
   "metadata": {},
   "outputs": [],
   "source": [
    "import numpy as np\n",
    "import pandas as pd\n",
    "import matplotlib.pyplot as plt\n",
    "from sklearn import model_selection\n",
    "from sklearn import linear_model\n",
    "from sklearn import metrics   # 求 MSE用\n",
    "from sklearn.datasets import make_regression  # 生成数据集用"
   ]
  },
  {
   "cell_type": "code",
   "execution_count": 148,
   "id": "a784fcd3-0850-496f-b9b0-f08363d0ae2c",
   "metadata": {},
   "outputs": [],
   "source": [
    "class Ridge():\n",
    "    def __init__(self, alpha = 0.1,\n",
    "                lambda_grid = np.logspace(-4, 4, 100),  # define a grid of lambda values on a logarithmic scale, base 10\n",
    "                fit_intercept = True,\n",
    "                K = 5\n",
    "                ):\n",
    "        self.alpha = alpha  # since lambda is a keyword for Python, we use alpha instead, corresponding to the package.\n",
    "        self.grid = lambda_grid\n",
    "        self.fit_intercept = fit_intercept\n",
    "        self.K = K\n",
    "        self.coef = None\n",
    "        \n",
    "\n",
    "    def fit(self, X, y):         # analytic solution\n",
    "        n, p = X.shape\n",
    "        if self.fit_intercept:\n",
    "            X = np.c_[np.ones(n), X]   # intercept is added to the matrix X\n",
    "            p += 1\n",
    "        I = np.identity(p)       # identity matrix of size p+1\n",
    "        if self.fit_intercept:   # 注意：这两个 if 不能合并，因为 I的维度不定。\n",
    "            I[0, 0] = 0              # the first element of the identity matrix is set to 0, 无需penalize intercept   \n",
    "        self.coef = np.linalg.inv(X.T @ X + self.alpha * I) @ X.T @ y    # 解析解\n",
    "\n",
    "\n",
    "    def CV_ridge(self, X, y):    # to find the optimal lambda, instead of the predefined one\n",
    "        X = np.c_[np.ones(X.shape[0]), X]\n",
    "        self.fit_intercept = False  # 接下来loop中调用fit，不能再加一列了\n",
    "        kf = model_selection.KFold(n_splits = self.K, shuffle = True, random_state = 201)  # split the training data into K folds\n",
    "        CV_record = []  # to store the CV error for each lambda\n",
    "        for lam in self.grid:\n",
    "            CV_error_folds = []\n",
    "            for train_idx, eval_idx in kf.split(X):\n",
    "                X_train_fold, X_eval_fold = X[train_idx], X[eval_idx]\n",
    "                y_train_fold, y_eval_fold = y[train_idx], y[eval_idx]       # split and select the dataset using the corresponding index\n",
    "                self.alpha = lam    # to update the lambda for fitting\n",
    "                self.fit(X_train_fold, y_train_fold)         # nothing is returned, but the attribute is updated.\n",
    "                y_hat_fold = X_eval_fold @ self.coef\n",
    "                Rk_hat = np.mean((y_hat_fold - y_eval_fold)**2)   # the empirical loss\n",
    "                CV_error_folds.append(Rk_hat)\n",
    "            CV_error = np.mean(np.array(CV_error_folds))\n",
    "            CV_record.append(CV_error)\n",
    "        min_index = np.argmin(np.array(CV_record))     # model selection\n",
    "        self.fit_intercept = True\n",
    "        self.alpha = self.grid[min_index]\n",
    "        print(f'The optimal lambda is: {self.alpha}')\n",
    "\n",
    "\n",
    "    def predict(self, X):\n",
    "        if self.fit_intercept:\n",
    "            X = np.c_[np.ones(X.shape[0]), X]\n",
    "        return X @ self.coef"
   ]
  },
  {
   "cell_type": "markdown",
   "id": "a38c181f-9a72-48ee-9271-5f0cb5613e66",
   "metadata": {},
   "source": [
    "Next, we create a dataset for ridge regression"
   ]
  },
  {
   "cell_type": "code",
   "execution_count": 152,
   "id": "96486dd8",
   "metadata": {},
   "outputs": [
    {
     "data": {
      "image/png": "[encoded data removed]",
      "text/plain": [
       "<Figure size 800x300 with 1 Axes>"
      ]
     },
     "metadata": {},
     "output_type": "display_data"
    }
   ],
   "source": [
    "n_samples = 40\n",
    "p_features = 60  # p很大，需要penalize. 这里甚至 n < p.\n",
    "X, y = make_regression(n_samples=n_samples, n_features=p_features, noise=3, effective_rank=35, random_state = 201) # 噪声大，且 rank < p多重共线性\n",
    "X_train, X_test, y_train, y_test = model_selection.train_test_split(X, y, test_size = 0.1, random_state = 200)\n",
    "fig = plt.figure(figsize = (8,3))\n",
    "plt.scatter(X[:, 0], y, color='blue', label='Data points', s = 15)\n",
    "plt.xlabel('Feature 1')   # to be changed, since only 2-dim graph\n",
    "plt.ylabel('Target variable')\n",
    "plt.title('Generated Ridge Regression Dataset')\n",
    "plt.show()"
   ]
  },
  {
   "cell_type": "markdown",
   "id": "f413b0a5-1b5f-45fb-9163-329c120bdfd6",
   "metadata": {},
   "source": [
    "### 2.2 The evaluation of Ridge: Manual version vs packages"
   ]
  },
  {
   "cell_type": "code",
   "execution_count": 184,
   "id": "ee8b4318-e7ae-4c0e-a842-25024cf5b732",
   "metadata": {},
   "outputs": [
    {
     "name": "stdout",
     "output_type": "stream",
     "text": [
      "The MSE from scratch using predefined lambda is 345.1359755646004\n",
      "The optimal lambda is: 0.0001\n",
      "The MSE after searching for the best lambda is 333.2225973244329\n",
      "The corresponding coefficients are \n",
      " [ -2.5620732   15.66114495  24.83373396  17.25749359 -10.89601654\n",
      "   0.52287285   3.68941992 -10.64890229  -4.2015144   -6.95140393\n",
      "  -5.20046198 -12.02031273  50.80885116  -2.23941387   4.2587458\n",
      " -20.44476586   2.45801212  31.42649719   3.28160954   3.59057419\n",
      "  -3.93437761  -7.43920407 -20.67595745   0.90795996   0.94498917\n",
      "  15.22394736 -11.62470433   9.24565668 -12.05397227  21.80550944\n",
      " -12.86314744  -3.87102872  39.52233524  43.23639377  11.18175446\n",
      "  48.72087072  13.27522569 -11.08481096  38.73244581  46.09317131\n",
      "  -0.21319269 -12.30965661  -2.328968   -11.43671654 -20.28308156\n",
      "  13.26684778  -2.40190146   1.69593711  10.29624442   5.88432195\n",
      "   3.47833831  18.59836336  -4.11351455  30.50286221  14.59465458\n",
      "  21.23193818  -3.15427082 -33.6803789    1.7857512    6.62283724\n",
      "  39.37681355].\n",
      "The MSE using sklearn with predefined lambda is 345.13597556459905\n"
     ]
    }
   ],
   "source": [
    "def mse(y_pred, y_test):\n",
    "    return np.mean((y_pred - y_test)**2)\n",
    "\n",
    "plm1 = Ridge(alpha = 0.1)   # 自定义lambda\n",
    "plm1.fit(X_train, y_train)\n",
    "y_pred1 = plm1.predict(X_test)\n",
    "MSE1 = metrics.mean_squared_error(y_pred1, y_test)  # 测试：用我自己写的mse()一样\n",
    "print(f'The MSE from scratch using predefined lambda is {MSE1}')\n",
    "\n",
    "plm2 = Ridge()    # 用 CV找最优lambda\n",
    "plm2.CV_ridge(X_train, y_train)\n",
    "plm2.fit(X_train, y_train)\n",
    "y_pred2 = plm2.predict(X_test)\n",
    "MSE2 = mse(y_pred2, y_test)\n",
    "print(f'The MSE after searching for the best lambda is {MSE2}')\n",
    "print(f'The corresponding coefficients are \\n {plm2.coef}.')\n",
    "\n",
    "plm3 = linear_model.Ridge(alpha = 0.1)\n",
    "plm3.fit(X_train, y_train)\n",
    "y_pred3 = plm3.predict(X_test)\n",
    "MSE3 = metrics.mean_squared_error(y_test, y_pred3)\n",
    "print(f'The MSE using sklearn with predefined lambda is {MSE3}')   # 这包比我解析解居然还强"
   ]
  },
  {
   "cell_type": "markdown",
   "id": "45214490-10b1-4743-85a7-6dd3b5c5c8cb",
   "metadata": {},
   "source": [
    "### 2.3 LASSO Regression\n",
    "Least Absolute Shrinkage and Selection Operator\n",
    "\n",
    "* Note that Lasso’s L1 penalty makes things a little tricky: the loss isn't differentiable when w = 0. So, we have to implement a soft-thresholding operator to handle the L1 term.\n",
    "* Soft thresholding in GD: Unlike simple gradient descent, which oscillates near 𝑤=0, soft thresholding directly shrinks small weights to zero."
   ]
  },
  {
   "cell_type": "code",
   "execution_count": 201,
   "id": "0c9e9b5c-0437-422f-b625-b075daea71ab",
   "metadata": {},
   "outputs": [],
   "source": [
    "class LASSO():\n",
    "    def __init__(self, \n",
    "                alpha = 0.002,\n",
    "                lr = 0.001,\n",
    "                max_iter = 100000,\n",
    "                tol = 1e-6):\n",
    "        self.alpha = alpha\n",
    "        self.lr = lr\n",
    "        self.tol = tol\n",
    "        self.max_iter = max_iter\n",
    "        self.coef = None\n",
    "\n",
    "    def lasso_loss(self, X, y, w=None, lam=None):\n",
    "        if w is None:  # Use self.coef if not provided\n",
    "            w = self.coef\n",
    "        if lam is None:  # Use self.alpha if not provided\n",
    "            lam = self.alpha\n",
    "        n, p = X.shape\n",
    "        resid = y - X @ w\n",
    "        squared_loss = np.sum(resid**2)  # Compute ||y - Xw||^2\n",
    "        return squared_loss + lam * np.sum(np.abs(w))  # 加上 ||w||_1\n",
    "\n",
    "    def lasso_GD(self, X, y):   # 这是个大致思路。实操中一定要掉包。手写的GD很不稳定。\n",
    "        n, p = X.shape\n",
    "        self.coef = np.zeros(p)\n",
    "        for i in range(self.max_iter):\n",
    "            w_t = self.coef\n",
    "            y_hat = X @ w_t\n",
    "            grad = -2/n * (X.T @ (y_hat - y))  # OLS grad\n",
    "            self.coef -= self.lr * grad\n",
    "            self.coef = np.sign(self.coef) * np.maximum(np.abs(self.coef) - self.alpha, 0)  # soft thresholding. 若lambda增大，则coef中会有更多项为0.\n",
    "            if np.abs(self.lasso_loss(X, y) - self.lasso_loss(X, y, w = w_t)) <= self.tol:\n",
    "                print(f'The change in loss is below the tolerance after the {i}th iterations')\n",
    "                break\n",
    "\n",
    "    def predict(self, X):\n",
    "        return X @ self.coef\n",
    "        "
   ]
  },
  {
   "cell_type": "code",
   "execution_count": 203,
   "id": "b72c4d6a-e0b9-497b-bd8c-8907afa6c45f",
   "metadata": {},
   "outputs": [
    {
     "name": "stdout",
     "output_type": "stream",
     "text": [
      "[ -0.          -0.          -0.           0.          -0.\n",
      "  -0.          -0.           0.           0.           0.\n",
      "  -0.         -98.50927857  -0.           0.           0.\n",
      "  -0.          -0.          -0.          -0.           0.\n",
      "   0.           0.          -0.           0.          -0.\n",
      "   0.           0.          -0.          -0.           0.\n",
      "   0.          -0.          -0.          -0.          -3.25756323\n",
      "  -0.           0.         -46.66731754  -3.14264342   0.\n",
      "   0.           0.           0.           0.          -0.\n",
      "  -0.           0.          -0.           0.          -0.\n",
      "  -0.           0.          -0.          -0.          -0.\n",
      "   0.           0.           0.          -0.          -0.        ]\n",
      "The MSE using hand written LASSO is 544.1700392908203.\n",
      "The MSE using sklearn package LASSO is 9.818297812621775.\n",
      "Nonzero coefficients: 14\n",
      "LASSO Coefficients: [-0.         10.82654364  0.         -0.         -0.          0.\n",
      " -0.          0.         -0.         -0.         -0.         86.709061\n",
      " -0.          0.         -0.          0.         16.5795655  -0.\n",
      "  0.         -0.         -0.         -0.          0.         -0.\n",
      "  0.          0.          2.46729012 -0.          3.56989923 -0.\n",
      "  0.         60.08281887 92.15660486  3.66688082 49.02598424  1.78478126\n",
      " -0.          1.75331762 71.54694047  0.         -0.         -0.\n",
      " -0.         -0.          1.02591849 -0.         -0.          0.\n",
      "  0.          0.          0.         -0.          0.         -0.\n",
      "  0.         -0.         -0.         -0.          0.         60.56561578]\n"
     ]
    }
   ],
   "source": [
    "plm4 = LASSO()\n",
    "plm4.lasso_GD(X_train, y_train)\n",
    "y_pred4 = plm4.predict(X_test)\n",
    "MSE4 = metrics.mean_squared_error(y_pred4, y_test)\n",
    "print(plm4.coef)\n",
    "print(f'The MSE using hand written LASSO is {MSE4}.')\n",
    "\n",
    "plm5 = linear_model.Lasso(alpha = 0.1)\n",
    "plm5.fit(X_train, y_train)\n",
    "y_pred5 = plm5.predict(X_test)\n",
    "MSE5 = metrics.mean_squared_error(y_pred5, y_test)\n",
    "print(f'The MSE using sklearn package LASSO is {MSE5}.')\n",
    "print(\"Nonzero coefficients:\", np.sum(plm5.coef_ != 0))\n",
    "print(\"LASSO Coefficients:\", plm5.coef_)"
   ]
  },
  {
   "cell_type": "markdown",
   "id": "283f89d8-f263-4a7e-bf50-0a54042b5f73",
   "metadata": {},
   "source": [
    "### 2.4 LASSO with Cross Validation"
   ]
  },
  {
   "cell_type": "code",
   "execution_count": 205,
   "id": "91380c64-0620-4e02-88dc-294860026108",
   "metadata": {},
   "outputs": [
    {
     "name": "stdout",
     "output_type": "stream",
     "text": [
      "Optimal lambda: 0.029836472402833405\n",
      "The MSE using LASSO CV package is 10.918080004160526.\n"
     ]
    }
   ],
   "source": [
    "# Automatically find the best alpha using cross-validation\n",
    "plm6 = linear_model.LassoCV(alphas=np.logspace(-4, 1, 100), cv=5)  # Try 100 values of lambda\n",
    "plm6.fit(X_train, y_train)\n",
    "\n",
    "# Best lambda\n",
    "print(\"Optimal lambda:\", plm6.alpha_)\n",
    "\n",
    "# Fit final model with best lambda\n",
    "lasso_best = linear_model.Lasso(alpha=plm6.alpha_)\n",
    "lasso_best.fit(X_train, y_train)\n",
    "y_best_pred = lasso_best.predict(X_test)\n",
    "MSE6 = metrics.mean_squared_error(y_best_pred, y_test)\n",
    "print(f'The MSE using LASSO CV package is {MSE6}.')"
   ]
  },
  {
   "cell_type": "code",
   "execution_count": null,
   "id": "b64475dd-5086-4541-a768-52226bd94c87",
   "metadata": {},
   "outputs": [],
   "source": []
  }
 ],
 "metadata": {
  "kernelspec": {
   "display_name": "Python [conda env:base] *",
   "language": "python",
   "name": "conda-base-py"
  },
  "language_info": {
   "codemirror_mode": {
    "name": "ipython",
    "version": 3
   },
   "file_extension": ".py",
   "mimetype": "text/x-python",
   "name": "python",
   "nbconvert_exporter": "python",
   "pygments_lexer": "ipython3",
   "version": "3.12.7"
  }
 },
 "nbformat": 4,
 "nbformat_minor": 5
}
