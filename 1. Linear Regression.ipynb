{
 "cells": [
  {
   "cell_type": "markdown",
   "id": "71a0e512-f181-4eec-a8df-2592939cbaab",
   "metadata": {},
   "source": [
    "## <center> Machine Learning from Scratch at ETH Zurich\n",
    "## <center> 1. Linear Regression with Gradient Descent   &nbsp; &nbsp; &nbsp;    线性回归与梯度下降\n",
    "### <center> Zhaorui Gong &nbsp; 宫兆瑞"
   ]
  },
  {
   "cell_type": "markdown",
   "id": "ba1e60b9-af2e-41e0-aa18-513d4e73c706",
   "metadata": {},
   "source": [
    "### 1.1 线性回归：普通梯度下降；解析解；sklearn掉包"
   ]
  },
  {
   "cell_type": "code",
   "execution_count": 1,
   "id": "8e1e0fc0-848c-4871-82a8-09d2dda2d16a",
   "metadata": {},
   "outputs": [],
   "source": [
    "import numpy as np\n",
    "import pandas as pd"
   ]
  },
  {
   "cell_type": "code",
   "execution_count": 2,
   "id": "dd76e959-494e-4057-a0b8-212aa3f69dea",
   "metadata": {},
   "outputs": [],
   "source": [
    "class LinearRegression:\n",
    "    def __init__(self, lr = 0.0005, n_iters = 1000, tol = 1e-6, max_iter = 20000):\n",
    "        self.lr = lr               # the learning rate, eta > 0 \n",
    "        self.n_iters = n_iters     # the number of iterations 这里没有用梯度下降常规的stopping criterion, 即实际移动距离 < epsilon\n",
    "        self.coef = None           # the coefficients, beta in stats and w (weights) in machine learning\n",
    "        self.bias = None           # the intercept\n",
    "        self.tolerance = tol       # tol 是GD的stopping criterion, 不能太大\n",
    "        self.max_iter = max_iter   \n",
    "\n",
    "    def fit(self, X, y):           # X is the n*p design matrix without the first column of 1, y is a n-dim column vector\n",
    "        n, p = X.shape             # the number samples and the number of features (predictors)\n",
    "        self.coef = np.zeros(p)    # 最开始先设系数为0向量\n",
    "        self.bias = 0\n",
    "\n",
    "        for i in range(0, self.n_iters):\n",
    "            y_hat = np.dot(X, self.coef) + self.bias\n",
    "            df_dw = (1 / n) * (X.T @ (y_hat - y))   # 最小二乘对系数求导, GD中的 dL(w^t), d即梯度运算符，倒三角\n",
    "            df_db = (1 / n) * np.sum(y_hat - y)\n",
    "    \n",
    "            self.coef = self.coef - self.lr * df_dw     # GD更新公式：w^(t+1) = w^t - eta * dL(w^t) \n",
    "            self.bias = self.bias - self.lr * df_db     # 截距也要更新\n",
    "            # fit函数不要返回任何东西。它只对attributes做修改。\n",
    "\n",
    "    def lm(self, X, y):            # 这也是MLR 但其中GD控制距离，而不是指定循环次数\n",
    "        n, p = X.shape\n",
    "        self.coef = np.zeros(p)\n",
    "        self.bias = 0\n",
    "        distance = self.tolerance * 1000   # 保证第一步肯定能行\n",
    "        count = 0\n",
    "\n",
    "        while distance >= self.tolerance and count <= self.max_iter:\n",
    "            y_hat = np.dot(X, self.coef) + self.bias  # Compute predictions\n",
    "            df_dw = (1 / n) * np.dot(X.T, (y_hat - y))  # Gradient w.r.t. coefficients\n",
    "            df_db = (1 / n) * np.sum(y_hat - y)  # Gradient w.r.t. bias\n",
    "            \n",
    "            wt = np.r_[self.bias, self.coef]  # Store old parameters\n",
    "            \n",
    "            # Gradient descent updates\n",
    "            self.coef -= self.lr * df_dw\n",
    "            self.bias -= self.lr * df_db\n",
    "\n",
    "            wt_1 = np.r_[self.bias, self.coef]  # Store new parameters\n",
    "            \n",
    "            \n",
    "            distance = np.linalg.norm(wt_1 - wt)  # Compute change in parameters\n",
    "            count += 1\n",
    "\n",
    "        # for i in range(5):  # Print the first 5 iterations for debugging\n",
    "        #     print(f\"Iteration {i}:\")\n",
    "        #     print(\"Max Gradient df_dw:\", np.max(df_dw))\n",
    "        #     print(\"Min Gradient df_dw:\", np.min(df_dw))\n",
    "        #     print(\"Bias:\", self.bias)\n",
    "        #     print(\"Coefficients:\", self.coef)\n",
    "        \n",
    "        \n",
    "        \n",
    "    def predict(self, X): \n",
    "        y_hat = np.dot(X, self.coef) + self.bias   # 与训练一样\n",
    "        return y_hat\n",
    "\n",
    "\n",
    "class LinearRegression_Analytic:     # 解析解：投影矩阵永远的神！注意：矩阵运算因condition number丢失精度，可能导致最终 MSE不如 GD，但差距不应该太大\n",
    "    def __init__(self):\n",
    "        self.coef = None\n",
    "        self.X = None    # the design matrix\n",
    "        self.residuals = None\n",
    "\n",
    "    def fit_analytic(self, X, y):\n",
    "        n, p = X.shape\n",
    "        self.X = np.c_[np.ones(n), X]\n",
    "        self.coef = np.linalg.inv(self.X.T @ self.X) @ self.X.T @ y\n",
    "\n",
    "    def predict(self, X): \n",
    "        n, p = X.shape\n",
    "        y_hat = np.c_[np.ones(n), X] @ self.coef\n",
    "        return y_hat\n",
    "\n",
    "    def resid(self, X, y):\n",
    "        self.residuals = y - X @ self.coef\n",
    "        return self.residuals\n",
    "        \n",
    "        "
   ]
  },
  {
   "cell_type": "markdown",
   "id": "6b694d83-4846-4b54-b670-ecb22a75dd6f",
   "metadata": {},
   "source": [
    "Next, we test our linear model. We first create a dataset by ourselves, and then define the loss function. Here we use the MSE."
   ]
  },
  {
   "cell_type": "code",
   "execution_count": 3,
   "id": "4c27cef4-b651-4d7e-b26e-bccdc115ee1e",
   "metadata": {},
   "outputs": [
    {
     "data": {
      "image/png": "[encoded data removed]",
      "text/plain": [
       "<Figure size 600x200 with 1 Axes>"
      ]
     },
     "metadata": {},
     "output_type": "display_data"
    }
   ],
   "source": [
    "from sklearn.model_selection import train_test_split\n",
    "from sklearn import datasets   # 自己创造数据集\n",
    "import matplotlib.pyplot as plt\n",
    "n_sample = 1000\n",
    "X, y = datasets.make_regression(n_samples = n_sample, n_features = 5, noise = 20, random_state = 200)   # SLR\n",
    "X_train, X_test, y_train, y_test = train_test_split(X, y, test_size = 0.2, random_state = 200)  # 自动分train test，学着点\n",
    "\n",
    "fig = plt.figure(figsize = (6,2))\n",
    "plt.scatter(X[:, 0], y, color = \"b\", marker = \"o\", s = 30)\n",
    "plt.show()   # 看一下生成的数据集"
   ]
  },
  {
   "cell_type": "code",
   "execution_count": 4,
   "id": "47862c64-c317-4afa-9feb-82ccf3fd00df",
   "metadata": {},
   "outputs": [
    {
     "name": "stdout",
     "output_type": "stream",
     "text": [
      "The MSE using Gradient Descent: 462.59604073327534\n",
      "The MSE using Analytic Solution: 462.60055868832757\n",
      "The MSE using sklearn packages: 462.6005586883273\n"
     ]
    }
   ],
   "source": [
    "def mse(y_test, y_pred):\n",
    "    MSE = np.mean((y_pred - y_test)**2)\n",
    "    return MSE\n",
    "\n",
    "lm1 = LinearRegression()\n",
    "lm1.lm(X_train, y_train)     # <- 改这里，实现两种不同的GD方法\n",
    "y_pred = lm1.predict(X_test)\n",
    "MSE = mse(y_test, y_pred)\n",
    "print(f'The MSE using Gradient Descent: {MSE}')\n",
    "\n",
    "lm2 = LinearRegression_Analytic()\n",
    "lm2.fit_analytic(X_train, y_train)\n",
    "y_pred = lm2.predict(X_test)\n",
    "MSE = mse(y_test, y_pred)\n",
    "print(f'The MSE using Analytic Solution: {MSE}')\n",
    "\n",
    "from sklearn import linear_model    # 直接掉包\n",
    "lm3 = linear_model.LinearRegression()\n",
    "lm3.fit(X_train, y_train)\n",
    "y_pred = lm3.predict(X_test)\n",
    "MSE = mse(y_test, y_pred)\n",
    "print(f'The MSE using sklearn packages: {MSE}') \n",
    "\n",
    "\n",
    "# 以下可视化为了显示Train 和Test两种不同数据点，颜色不一样\n",
    "# 若 n_features > 1, 则此图像没有意义！！！\n",
    "# y_pred_line = lm2.predict(X)   # 可以采用任何一种训练方法，改变的只是黑线\n",
    "# cmap = plt.get_cmap('viridis')\n",
    "# fig = plt.figure(figsize = (6,4))\n",
    "# m1 = plt.scatter(X_train, y_train, color = cmap(0.9), s=10)  \n",
    "# m2 = plt.scatter(X_test, y_test, color = cmap(0.4), s=10)\n",
    "# plt.plot(X, y_pred_line, color = 'black', linewidth = 0.8, label='Prediction')\n",
    "# plt.show()"
   ]
  },
  {
   "cell_type": "markdown",
   "id": "37da8644-a075-4fa3-be5c-c8515697aeb4",
   "metadata": {},
   "source": [
    "Now instead of our created dataset with only 1 feature, we import the dataset of the Project 0 in IML course.\n",
    "\n",
    "但是注意，由于这个数据集features太多且数值太大，GD会发散。于是，接下来我们用SGD进行优化。\n",
    "\n",
    "### 1.2 多元线性回归：随机梯度下降"
   ]
  },
  {
   "cell_type": "code",
   "execution_count": 5,
   "id": "1e2446ba-d297-4503-8447-a0202fbbf60c",
   "metadata": {},
   "outputs": [],
   "source": [
    "import numpy as np\n",
    "import pandas as pd\n",
    "import matplotlib.pyplot as plt\n",
    "from sklearn.preprocessing import StandardScaler\n",
    "\n",
    "def mse(y_test, y_pred):\n",
    "    MSE = np.mean((y_pred - y_test)**2)\n",
    "    return MSE\n",
    "\n",
    "class MLR_SGD():\n",
    "    def __init__(self, lr = 0.001, tolerance = 1e-6, max_iter = 100000, batchsize = int(n_sample/4)):   # batchsize太大太小都不好\n",
    "        self.lr = lr                                                                                      # 发现：dim越大，需要的batchsize就越大\n",
    "        self.tol = tolerance\n",
    "        self.max_iter = max_iter\n",
    "        self.coef = None\n",
    "        self.bias = None\n",
    "        self.loss_history = []  # 用于存储损失\n",
    "        self.batchsize = batchsize\n",
    "\n",
    "    def lm_SGD(self, X, y):\n",
    "        n,p = X.shape\n",
    "        self.coef = np.zeros(p)\n",
    "        self.bias = 0\n",
    "        prev_loss = float('inf')\n",
    "        count = 0\n",
    "\n",
    "        for i in range(self.max_iter):\n",
    "            temp = self.coef\n",
    "            np.random.seed(201)\n",
    "            idx = np.random.randint(0, n, 1)   # from 0 to n, pick 1  但是很容易过拟合！！\n",
    "            Xi = X[idx, :]\n",
    "            yi = y[idx]\n",
    "            yi_hat = np.dot(Xi, self.coef) + self.bias\n",
    "\n",
    "            df_dw = 2/n * Xi * (yi_hat - yi)    # gradient for only 1 point, Xi is 1*p\n",
    "            df_db = 2/n * (yi_hat - yi)\n",
    "            self.coef = self.coef - self.lr * df_dw\n",
    "            self.bias -= self.lr * df_db[0]\n",
    "\n",
    "            y_hat = np.dot(X, self.coef) + self.bias\n",
    "            loss = np.mean((y_hat - y) ** 2)   # squared loss, MSE\n",
    "            self.loss_history.append(loss)\n",
    "            # if np.linalg.norm(temp - self.coef) < self.tol:\n",
    "            if abs(loss - prev_loss) < self.tol:\n",
    "                print(count)\n",
    "                break\n",
    "            prev_loss = loss\n",
    "            count += 1\n",
    "\n",
    "    def lm_MiniBatchSGD(self, X, y):    # 随机梯度下降的实现：这是真的随机，没有轮着用batch\n",
    "        n,p = X.shape\n",
    "        self.coef = np.zeros(p)\n",
    "        self.bias = 0\n",
    "        prev_loss = float('inf')\n",
    "        count = 0\n",
    "\n",
    "        for i in range(self.max_iter):\n",
    "            temp = self.coef\n",
    "            np.random.seed(201)\n",
    "            idx = np.random.choice(n, self.batchsize, replace = False)   # 无放回，n 取 batchsize个\n",
    "            if isinstance(X, pd.DataFrame):  # If X is a Pandas DataFrame\n",
    "                X_batch, y_batch = X.iloc[idx, :], y[idx]\n",
    "            else:                            # If X is a NumPy array\n",
    "                X_batch, y_batch = X[idx, :], y[idx]\n",
    "            \n",
    "            yb_hat = np.dot(X_batch, self.coef) + self.bias\n",
    "\n",
    "            df_dw = (2/self.batchsize) * np.dot(X_batch.T, (yb_hat - y_batch))    # gradient for only 1 point, Xi is 1*p\n",
    "            df_db = (2/self.batchsize) * np.sum((yb_hat - y_batch))\n",
    "            self.coef = self.coef - self.lr * df_dw\n",
    "            self.bias -= self.lr * df_db\n",
    "\n",
    "            y_hat = np.dot(X, self.coef) + self.bias\n",
    "            loss = np.mean((y_hat - y) ** 2)   # squared loss, MSE\n",
    "            self.loss_history.append(loss)\n",
    "            if np.isnan(loss) or np.isinf(loss):   # 防止出现完美拟合，即Project 0 的情况\n",
    "                print(\"Loss is NaN or Inf, stopping training.\")\n",
    "                self.coef = None\n",
    "                break\n",
    "            # if np.linalg.norm(temp - self.coef) < self.tol:\n",
    "            if abs(loss - prev_loss) < self.tol:\n",
    "                print(count)\n",
    "                break\n",
    "            prev_loss = loss\n",
    "            count += 1\n",
    "        \n",
    "\n",
    "    def predict(self, X_test):\n",
    "        if self.coef is None:\n",
    "            print(\"The model failed to be trained\")\n",
    "            return None\n",
    "        return X_test @ self.coef + self.bias"
   ]
  },
  {
   "cell_type": "code",
   "execution_count": 6,
   "id": "48891276-fc2a-4808-bc40-48e835a8b974",
   "metadata": {},
   "outputs": [
    {
     "name": "stdout",
     "output_type": "stream",
     "text": [
      "7852\n",
      "The MSE using Stochastic Gradient Descent: 459.2231963869043\n"
     ]
    },
    {
     "data": {
      "image/png": "[encoded data removed]",
      "text/plain": [
       "<Figure size 640x480 with 1 Axes>"
      ]
     },
     "metadata": {},
     "output_type": "display_data"
    }
   ],
   "source": [
    "def mse(y_test, y_pred):\n",
    "    MSE = np.mean((y_pred - y_test)**2)\n",
    "    return MSE\n",
    "\n",
    "lm4 = MLR_SGD()\n",
    "lm4.lm_MiniBatchSGD(X_train, y_train)   # <- Minibatch 收敛。batchsize = 1的SGD可能不收敛。\n",
    "y_pred = lm4.predict(X_test)            # SGD可能优于以上三种方法（包括掉包），但受dimension和noise level影响严重，不稳定，需多次调试！！！\n",
    "MSE = mse(y_test, y_pred)\n",
    "print(f'The MSE using Stochastic Gradient Descent: {MSE}')\n",
    "plt.plot(lm4.loss_history)\n",
    "plt.xlabel(\"Iteration\")\n",
    "plt.ylabel(\"Loss (MSE)\")\n",
    "plt.title(\"Loss Curve for SGD\")\n",
    "plt.show()"
   ]
  },
  {
   "cell_type": "markdown",
   "id": "b554c639-4c39-4479-95a7-dc0e9168f881",
   "metadata": {},
   "source": [
    "### 1.3 测试：IML Project 0 数据集，这是一个完美拟合的例子，会导致各种bug"
   ]
  },
  {
   "cell_type": "code",
   "execution_count": 7,
   "id": "b819aed7-2721-4367-99bc-1697fc5a8a13",
   "metadata": {},
   "outputs": [
    {
     "name": "stdout",
     "output_type": "stream",
     "text": [
      "[1.32438505e-12 1.00000000e-01 1.00000000e-01 1.00000000e-01\n",
      " 1.00000000e-01 1.00000000e-01 1.00000000e-01 1.00000000e-01\n",
      " 1.00000000e-01 1.00000000e-01 1.00000000e-01]\n",
      "Loss is NaN or Inf, stopping training.\n",
      "The model failed to be trained\n"
     ]
    }
   ],
   "source": [
    "df_train = pd.read_csv(r\"C:\\Users\\reygo\\Desktop\\宫兆瑞的水壶\\ETH硕士课程\\Spring 2025\\Intro to Machine Learning\\IML Project 0\\train.csv\")\n",
    "df_test = pd.read_csv(r\"C:\\Users\\reygo\\Desktop\\宫兆瑞的水壶\\ETH硕士课程\\Spring 2025\\Intro to Machine Learning\\IML Project 0\\test.csv\")\n",
    "\n",
    "X_train = df_train.iloc[:, 2:]\n",
    "y_train = df_train.iloc[:, 1]\n",
    "X_test = df_test.iloc[:, 1:]\n",
    "\n",
    "# print(X_train.head(3))\n",
    "# print(\"Any NaN in X?\", np.any(np.isnan(X_train)))    # 用于检测数据集中的空值\n",
    "# print(\"Any Inf in X?\", np.any(np.isinf(X_train)))\n",
    "# print(\"Any NaN in y?\", np.any(np.isnan(y_train)))\n",
    "# print(\"Any Inf in y?\", np.any(np.isinf(y_train)))\n",
    "# def mse(y_test, y_pred):\n",
    "#     MSE = np.mean((y_pred - y_test)**2)\n",
    "#     return MSE\n",
    "\n",
    "lm5 = LinearRegression_Analytic()\n",
    "lm5.fit_analytic(X_train, y_train)\n",
    "print(lm5.coef)      # 这个数据集是完美线性，所以beta0 = 0， 其余都是1\n",
    "# y_pred = lm5.predict(X_test)\n",
    "\n",
    "# 注意，SGD 通常用于近似梯度，但你的数据是完美线性可分的，每个 batch 里的数据都是完美一致的，导致：\n",
    "# 每个 mini-batch 提供的梯度信息没有变化，更新方向几乎相同。\n",
    "# 梯度几乎恒定，不会有收敛加速的随机性，SGD 反而可能变慢。\n",
    "lm6 = MLR_SGD(lr = 0.01, tolerance = 0.01, max_iter = 1000)\n",
    "lm6.lm_MiniBatchSGD(X_train, y_train)\n",
    "y_pred = lm6.predict(X_test)\n",
    "\n",
    "# 按照project要求，应当输出pred结果，以交给系统打分。\n",
    "if y_pred is not None:\n",
    "    output = pd.DataFrame(\n",
    "        {\"Id\": np.arange(10000, 12000),\n",
    "         \"y\": y_pred\n",
    "        })\n",
    "    output.to_csv(\"results Zhaorui.csv\", index=False)"
   ]
  },
  {
   "cell_type": "code",
   "execution_count": null,
   "id": "39b31749-a8c4-4af5-8902-2b518c36f672",
   "metadata": {},
   "outputs": [],
   "source": []
  }
 ],
 "metadata": {
  "kernelspec": {
   "display_name": "Python [conda env:base] *",
   "language": "python",
   "name": "conda-base-py"
  },
  "language_info": {
   "codemirror_mode": {
    "name": "ipython",
    "version": 3
   },
   "file_extension": ".py",
   "mimetype": "text/x-python",
   "name": "python",
   "nbconvert_exporter": "python",
   "pygments_lexer": "ipython3",
   "version": "3.12.7"
  }
 },
 "nbformat": 4,
 "nbformat_minor": 5
}
